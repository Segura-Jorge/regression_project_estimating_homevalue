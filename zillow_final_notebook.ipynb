{
 "cells": [
  {
   "cell_type": "markdown",
   "id": "premier-milan",
   "metadata": {},
   "source": [
    "# Zillow House Value Investigation"
   ]
  },
  {
   "cell_type": "markdown",
   "id": "going-assembly",
   "metadata": {},
   "source": [
    "## Imports"
   ]
  },
  {
   "cell_type": "code",
   "execution_count": 1,
   "id": "1dae03fe-acf6-48e2-82ef-7a92876ac998",
   "metadata": {
    "tags": []
   },
   "outputs": [],
   "source": [
    "#tabular data imports :\n",
    "import pandas as pd\n",
    "import numpy as np\n",
    "import env\n",
    "from env import user, password, host\n",
    "from pydataset import data\n",
    "\n",
    "# visualization imports:\n",
    "import matplotlib.pyplot as plt\n",
    "import seaborn as sns\n",
    "from sklearn.model_selection import train_test_split\n",
    "from sklearn.linear_model import LinearRegression, LassoLars, TweedieRegressor\n",
    "from sklearn.feature_selection import SelectKBest, RFE, f_regression, SequentialFeatureSelector\n",
    "# success metrics from earlier in the week: mean squared error and r^2 explained variance\n",
    "from sklearn.preprocessing import MinMaxScaler, PolynomialFeatures\n",
    "from sklearn.metrics import mean_squared_error\n",
    "from sklearn.metrics import r2_score\n",
    "from sklearn.preprocessing import PolynomialFeatures\n",
    "\n",
    "from scipy.stats import pearsonr, spearmanr\n",
    "from scipy.stats import shapiro\n",
    "\n",
    "import warnings\n",
    "warnings.filterwarnings(\"ignore\")\n",
    "import wrangle as w\n",
    "import os\n",
    "directory = os.getcwd()"
   ]
  },
  {
   "cell_type": "markdown",
   "id": "376143b1-131b-429f-bff6-9dc6ac28a649",
   "metadata": {
    "tags": []
   },
   "source": [
    "# Data Dictionary\n",
    "\n",
    "\n",
    "| Feature | Definition |\n",
    "|:--------|:-----------|\n",
    "| id | Unique identifier for a property record |\n",
    "| bedroomcnt, bedrooms | The number of bedrooms in the property |\n",
    "| bathroomcnt, bathrooms | The number of bathrooms in the property, including partial bathrooms |\n",
    "| calculatedfinishedsquarefeet, sqft | The total square footage of the property as calculated from public records |\n",
    "| yearbuilt | The year the property was originally constructed |\n",
    "| fips, county | Federal Information Processing Standards code representing the county in which the property is located |\n",
    "| latitude | The latitude coordinate of the property |\n",
    "| longitude | The longitude coordinate of the property |\n",
    "| transactiondate, transaction_date | The date the property transaction was recorded |\n",
    "| propertylandusedesc, property_class | The type or use of land the property is classified under |\n",
    "| taxvaluedollarcnt, **taxvalue** | The total tax assessed value of the property |\n",
    "| percentile_rank  | The percentile rank of the property based on the house square feet |\n",
    "\n"
   ]
  },
  {
   "cell_type": "markdown",
   "id": "12a4aae4-2cd8-4552-8cd8-9bf7b1c58d37",
   "metadata": {},
   "source": [
    "## Acquire\n",
    "#### - Data acquired from the CodeUp mySQL server, the zillow database was gathered during the Tobias cohort.\n",
    "#### - Size of data ((65418 rows, 13 columns)\n",
    "#### - SQL query that imports the data focuses on non-nulls\n",
    "#### - Each row represents a single family home transaction\n",
    "#### - Each column represents a feature for the transaction"
   ]
  },
  {
   "cell_type": "markdown",
   "id": "1092e918-ac9a-4cc8-a325-93b7ec50e0d9",
   "metadata": {},
   "source": [
    "## Zillow data"
   ]
  },
  {
   "cell_type": "code",
   "execution_count": 2,
   "id": "67375006-39cf-48b5-b918-8adc0d9020c3",
   "metadata": {
    "tags": []
   },
   "outputs": [
    {
     "data": {
      "text/html": [
       "<div>\n",
       "<style scoped>\n",
       "    .dataframe tbody tr th:only-of-type {\n",
       "        vertical-align: middle;\n",
       "    }\n",
       "\n",
       "    .dataframe tbody tr th {\n",
       "        vertical-align: top;\n",
       "    }\n",
       "\n",
       "    .dataframe thead th {\n",
       "        text-align: right;\n",
       "    }\n",
       "</style>\n",
       "<table border=\"1\" class=\"dataframe\">\n",
       "  <thead>\n",
       "    <tr style=\"text-align: right;\">\n",
       "      <th></th>\n",
       "      <th>id</th>\n",
       "      <th>bedroomcnt</th>\n",
       "      <th>bathroomcnt</th>\n",
       "      <th>calculatedfinishedsquarefeet</th>\n",
       "      <th>yearbuilt</th>\n",
       "      <th>fips</th>\n",
       "      <th>latitude</th>\n",
       "      <th>longitude</th>\n",
       "      <th>transactiondate</th>\n",
       "      <th>propertylandusedesc</th>\n",
       "      <th>taxvaluedollarcnt</th>\n",
       "      <th>percentile_rank</th>\n",
       "    </tr>\n",
       "  </thead>\n",
       "  <tbody>\n",
       "    <tr>\n",
       "      <th>0</th>\n",
       "      <td>5692</td>\n",
       "      <td>3.0</td>\n",
       "      <td>1.0</td>\n",
       "      <td>706.0</td>\n",
       "      <td>1922.0</td>\n",
       "      <td>6037.0</td>\n",
       "      <td>34117963.0</td>\n",
       "      <td>-118200539.0</td>\n",
       "      <td>2017-01-26</td>\n",
       "      <td>Single Family Residential</td>\n",
       "      <td>133437.0</td>\n",
       "      <td>0.010042</td>\n",
       "    </tr>\n",
       "    <tr>\n",
       "      <th>1</th>\n",
       "      <td>6551</td>\n",
       "      <td>2.0</td>\n",
       "      <td>1.0</td>\n",
       "      <td>706.0</td>\n",
       "      <td>1921.0</td>\n",
       "      <td>6037.0</td>\n",
       "      <td>33979340.0</td>\n",
       "      <td>-118292988.0</td>\n",
       "      <td>2017-01-30</td>\n",
       "      <td>Single Family Residential</td>\n",
       "      <td>26831.0</td>\n",
       "      <td>0.010042</td>\n",
       "    </tr>\n",
       "    <tr>\n",
       "      <th>2</th>\n",
       "      <td>63323</td>\n",
       "      <td>2.0</td>\n",
       "      <td>1.0</td>\n",
       "      <td>706.0</td>\n",
       "      <td>1922.0</td>\n",
       "      <td>6037.0</td>\n",
       "      <td>33914931.0</td>\n",
       "      <td>-118348347.0</td>\n",
       "      <td>2017-08-02</td>\n",
       "      <td>Single Family Residential</td>\n",
       "      <td>134631.0</td>\n",
       "      <td>0.010042</td>\n",
       "    </tr>\n",
       "  </tbody>\n",
       "</table>\n",
       "</div>"
      ],
      "text/plain": [
       "      id  bedroomcnt  bathroomcnt  calculatedfinishedsquarefeet  yearbuilt  \\\n",
       "0   5692         3.0          1.0                         706.0     1922.0   \n",
       "1   6551         2.0          1.0                         706.0     1921.0   \n",
       "2  63323         2.0          1.0                         706.0     1922.0   \n",
       "\n",
       "     fips    latitude    longitude transactiondate        propertylandusedesc  \\\n",
       "0  6037.0  34117963.0 -118200539.0      2017-01-26  Single Family Residential   \n",
       "1  6037.0  33979340.0 -118292988.0      2017-01-30  Single Family Residential   \n",
       "2  6037.0  33914931.0 -118348347.0      2017-08-02  Single Family Residential   \n",
       "\n",
       "   taxvaluedollarcnt  percentile_rank  \n",
       "0           133437.0         0.010042  \n",
       "1            26831.0         0.010042  \n",
       "2           134631.0         0.010042  "
      ]
     },
     "execution_count": 2,
     "metadata": {},
     "output_type": "execute_result"
    }
   ],
   "source": [
    "df_zillow = w.get_zillow_data()\n",
    "df_zillow.head(3)"
   ]
  },
  {
   "cell_type": "code",
   "execution_count": 3,
   "id": "9e2d58be-f7cd-4553-b533-22b46e744c4e",
   "metadata": {
    "tags": []
   },
   "outputs": [
    {
     "data": {
      "text/plain": [
       "(57091, 12)"
      ]
     },
     "execution_count": 3,
     "metadata": {},
     "output_type": "execute_result"
    }
   ],
   "source": [
    "df_zillow.shape"
   ]
  },
  {
   "cell_type": "code",
   "execution_count": 4,
   "id": "a49b0f29-cb09-43c4-b67e-67c5e5a4f11e",
   "metadata": {
    "tags": []
   },
   "outputs": [
    {
     "data": {
      "text/plain": [
       "id                              0\n",
       "bedroomcnt                      0\n",
       "bathroomcnt                     0\n",
       "calculatedfinishedsquarefeet    0\n",
       "yearbuilt                       0\n",
       "fips                            0\n",
       "latitude                        0\n",
       "longitude                       0\n",
       "transactiondate                 0\n",
       "propertylandusedesc             0\n",
       "taxvaluedollarcnt               4\n",
       "percentile_rank                 0\n",
       "dtype: int64"
      ]
     },
     "execution_count": 4,
     "metadata": {},
     "output_type": "execute_result"
    }
   ],
   "source": [
    "df_zillow.isnull().sum()"
   ]
  },
  {
   "cell_type": "code",
   "execution_count": 5,
   "id": "ab0467a4-69b0-40bf-84f0-2da30843f6a6",
   "metadata": {
    "tags": []
   },
   "outputs": [
    {
     "data": {
      "text/html": [
       "<div>\n",
       "<style scoped>\n",
       "    .dataframe tbody tr th:only-of-type {\n",
       "        vertical-align: middle;\n",
       "    }\n",
       "\n",
       "    .dataframe tbody tr th {\n",
       "        vertical-align: top;\n",
       "    }\n",
       "\n",
       "    .dataframe thead th {\n",
       "        text-align: right;\n",
       "    }\n",
       "</style>\n",
       "<table border=\"1\" class=\"dataframe\">\n",
       "  <thead>\n",
       "    <tr style=\"text-align: right;\">\n",
       "      <th></th>\n",
       "      <th>count</th>\n",
       "      <th>mean</th>\n",
       "      <th>std</th>\n",
       "      <th>min</th>\n",
       "      <th>25%</th>\n",
       "      <th>50%</th>\n",
       "      <th>75%</th>\n",
       "      <th>max</th>\n",
       "    </tr>\n",
       "  </thead>\n",
       "  <tbody>\n",
       "    <tr>\n",
       "      <th>id</th>\n",
       "      <td>57091.0</td>\n",
       "      <td>3.863084e+04</td>\n",
       "      <td>22340.926137</td>\n",
       "      <td>2.000000e+01</td>\n",
       "      <td>1.956150e+04</td>\n",
       "      <td>3.864500e+04</td>\n",
       "      <td>5.711850e+04</td>\n",
       "      <td>7.761100e+04</td>\n",
       "    </tr>\n",
       "    <tr>\n",
       "      <th>bedroomcnt</th>\n",
       "      <td>57091.0</td>\n",
       "      <td>3.342839e+00</td>\n",
       "      <td>0.925804</td>\n",
       "      <td>0.000000e+00</td>\n",
       "      <td>3.000000e+00</td>\n",
       "      <td>3.000000e+00</td>\n",
       "      <td>4.000000e+00</td>\n",
       "      <td>1.100000e+01</td>\n",
       "    </tr>\n",
       "    <tr>\n",
       "      <th>bathroomcnt</th>\n",
       "      <td>57091.0</td>\n",
       "      <td>2.240738e+00</td>\n",
       "      <td>0.900315</td>\n",
       "      <td>1.000000e+00</td>\n",
       "      <td>2.000000e+00</td>\n",
       "      <td>2.000000e+00</td>\n",
       "      <td>3.000000e+00</td>\n",
       "      <td>9.000000e+00</td>\n",
       "    </tr>\n",
       "    <tr>\n",
       "      <th>calculatedfinishedsquarefeet</th>\n",
       "      <td>57091.0</td>\n",
       "      <td>1.835880e+03</td>\n",
       "      <td>773.586565</td>\n",
       "      <td>7.060000e+02</td>\n",
       "      <td>1.280000e+03</td>\n",
       "      <td>1.642000e+03</td>\n",
       "      <td>2.204000e+03</td>\n",
       "      <td>5.227000e+03</td>\n",
       "    </tr>\n",
       "    <tr>\n",
       "      <th>yearbuilt</th>\n",
       "      <td>57091.0</td>\n",
       "      <td>1.960278e+03</td>\n",
       "      <td>22.146708</td>\n",
       "      <td>1.808000e+03</td>\n",
       "      <td>1.949000e+03</td>\n",
       "      <td>1.958000e+03</td>\n",
       "      <td>1.974000e+03</td>\n",
       "      <td>2.016000e+03</td>\n",
       "    </tr>\n",
       "    <tr>\n",
       "      <th>fips</th>\n",
       "      <td>57091.0</td>\n",
       "      <td>6.048309e+03</td>\n",
       "      <td>20.837299</td>\n",
       "      <td>6.037000e+03</td>\n",
       "      <td>6.037000e+03</td>\n",
       "      <td>6.037000e+03</td>\n",
       "      <td>6.059000e+03</td>\n",
       "      <td>6.111000e+03</td>\n",
       "    </tr>\n",
       "    <tr>\n",
       "      <th>latitude</th>\n",
       "      <td>57091.0</td>\n",
       "      <td>3.401557e+07</td>\n",
       "      <td>245421.197210</td>\n",
       "      <td>3.334071e+07</td>\n",
       "      <td>3.384037e+07</td>\n",
       "      <td>3.401481e+07</td>\n",
       "      <td>3.417740e+07</td>\n",
       "      <td>3.480695e+07</td>\n",
       "    </tr>\n",
       "    <tr>\n",
       "      <th>longitude</th>\n",
       "      <td>57091.0</td>\n",
       "      <td>-1.182066e+08</td>\n",
       "      <td>345269.400601</td>\n",
       "      <td>-1.194484e+08</td>\n",
       "      <td>-1.183954e+08</td>\n",
       "      <td>-1.181690e+08</td>\n",
       "      <td>-1.179566e+08</td>\n",
       "      <td>-1.175559e+08</td>\n",
       "    </tr>\n",
       "    <tr>\n",
       "      <th>taxvaluedollarcnt</th>\n",
       "      <td>57087.0</td>\n",
       "      <td>4.273027e+05</td>\n",
       "      <td>443225.600779</td>\n",
       "      <td>7.584000e+03</td>\n",
       "      <td>1.885260e+05</td>\n",
       "      <td>3.271140e+05</td>\n",
       "      <td>5.230000e+05</td>\n",
       "      <td>1.472112e+07</td>\n",
       "    </tr>\n",
       "    <tr>\n",
       "      <th>percentile_rank</th>\n",
       "      <td>57091.0</td>\n",
       "      <td>4.997549e-01</td>\n",
       "      <td>0.282995</td>\n",
       "      <td>1.004154e-02</td>\n",
       "      <td>2.543170e-01</td>\n",
       "      <td>4.998455e-01</td>\n",
       "      <td>7.448934e-01</td>\n",
       "      <td>9.899928e-01</td>\n",
       "    </tr>\n",
       "  </tbody>\n",
       "</table>\n",
       "</div>"
      ],
      "text/plain": [
       "                                count          mean            std  \\\n",
       "id                            57091.0  3.863084e+04   22340.926137   \n",
       "bedroomcnt                    57091.0  3.342839e+00       0.925804   \n",
       "bathroomcnt                   57091.0  2.240738e+00       0.900315   \n",
       "calculatedfinishedsquarefeet  57091.0  1.835880e+03     773.586565   \n",
       "yearbuilt                     57091.0  1.960278e+03      22.146708   \n",
       "fips                          57091.0  6.048309e+03      20.837299   \n",
       "latitude                      57091.0  3.401557e+07  245421.197210   \n",
       "longitude                     57091.0 -1.182066e+08  345269.400601   \n",
       "taxvaluedollarcnt             57087.0  4.273027e+05  443225.600779   \n",
       "percentile_rank               57091.0  4.997549e-01       0.282995   \n",
       "\n",
       "                                       min           25%           50%  \\\n",
       "id                            2.000000e+01  1.956150e+04  3.864500e+04   \n",
       "bedroomcnt                    0.000000e+00  3.000000e+00  3.000000e+00   \n",
       "bathroomcnt                   1.000000e+00  2.000000e+00  2.000000e+00   \n",
       "calculatedfinishedsquarefeet  7.060000e+02  1.280000e+03  1.642000e+03   \n",
       "yearbuilt                     1.808000e+03  1.949000e+03  1.958000e+03   \n",
       "fips                          6.037000e+03  6.037000e+03  6.037000e+03   \n",
       "latitude                      3.334071e+07  3.384037e+07  3.401481e+07   \n",
       "longitude                    -1.194484e+08 -1.183954e+08 -1.181690e+08   \n",
       "taxvaluedollarcnt             7.584000e+03  1.885260e+05  3.271140e+05   \n",
       "percentile_rank               1.004154e-02  2.543170e-01  4.998455e-01   \n",
       "\n",
       "                                       75%           max  \n",
       "id                            5.711850e+04  7.761100e+04  \n",
       "bedroomcnt                    4.000000e+00  1.100000e+01  \n",
       "bathroomcnt                   3.000000e+00  9.000000e+00  \n",
       "calculatedfinishedsquarefeet  2.204000e+03  5.227000e+03  \n",
       "yearbuilt                     1.974000e+03  2.016000e+03  \n",
       "fips                          6.059000e+03  6.111000e+03  \n",
       "latitude                      3.417740e+07  3.480695e+07  \n",
       "longitude                    -1.179566e+08 -1.175559e+08  \n",
       "taxvaluedollarcnt             5.230000e+05  1.472112e+07  \n",
       "percentile_rank               7.448934e-01  9.899928e-01  "
      ]
     },
     "execution_count": 5,
     "metadata": {},
     "output_type": "execute_result"
    }
   ],
   "source": [
    "df_zillow.describe().T"
   ]
  },
  {
   "cell_type": "markdown",
   "id": "46e90e96-9bb6-4dac-95b2-0439be02617a",
   "metadata": {},
   "source": [
    "# Prepare\n",
    "#### Prepare\n",
    "\n",
    "- perform univariate stats\n",
    "- clean up data\n",
    "- encode data\n",
    "- split data\n",
    "\n",
    "### Prepare Actions:\n",
    "\n",
    "- Removed columns that did not contain useful information\n",
    "- Renamed columns to promote readability\n",
    "- Checked for nulls in the data (there were none)\n",
    "- Checked that column data types were appropriate\n",
    "- Added additional features to investigate:\n",
    "    - rm_X_sqft\n",
    "- Compare categorical variables\n",
    "- Split data into train(60), validate(20) and test(20) (no stratifying)\n",
    "- Scale continuous variable\n",
    "- Outliers within 1% of max or min of square feet (sqft) have been removed for this iteration of the project"
   ]
  },
  {
   "cell_type": "code",
   "execution_count": 6,
   "id": "ed6df0a4-af5b-4df6-b8b1-959ead0e95d5",
   "metadata": {
    "tags": []
   },
   "outputs": [
    {
     "data": {
      "text/html": [
       "<div>\n",
       "<style scoped>\n",
       "    .dataframe tbody tr th:only-of-type {\n",
       "        vertical-align: middle;\n",
       "    }\n",
       "\n",
       "    .dataframe tbody tr th {\n",
       "        vertical-align: top;\n",
       "    }\n",
       "\n",
       "    .dataframe thead th {\n",
       "        text-align: right;\n",
       "    }\n",
       "</style>\n",
       "<table border=\"1\" class=\"dataframe\">\n",
       "  <thead>\n",
       "    <tr style=\"text-align: right;\">\n",
       "      <th></th>\n",
       "      <th>id</th>\n",
       "      <th>bedrooms</th>\n",
       "      <th>bathrooms</th>\n",
       "      <th>sqft</th>\n",
       "      <th>yearbuilt</th>\n",
       "      <th>county</th>\n",
       "      <th>latitude</th>\n",
       "      <th>longitude</th>\n",
       "      <th>transaction_date</th>\n",
       "      <th>property_class</th>\n",
       "      <th>taxvalue</th>\n",
       "      <th>percentile_rank</th>\n",
       "    </tr>\n",
       "  </thead>\n",
       "  <tbody>\n",
       "    <tr>\n",
       "      <th>0</th>\n",
       "      <td>5692</td>\n",
       "      <td>3</td>\n",
       "      <td>1.0</td>\n",
       "      <td>706</td>\n",
       "      <td>1922</td>\n",
       "      <td>LA</td>\n",
       "      <td>34117963.0</td>\n",
       "      <td>-118200539.0</td>\n",
       "      <td>2017-01-26</td>\n",
       "      <td>Single Family Residential</td>\n",
       "      <td>133437</td>\n",
       "      <td>0.010042</td>\n",
       "    </tr>\n",
       "    <tr>\n",
       "      <th>1</th>\n",
       "      <td>6551</td>\n",
       "      <td>2</td>\n",
       "      <td>1.0</td>\n",
       "      <td>706</td>\n",
       "      <td>1921</td>\n",
       "      <td>LA</td>\n",
       "      <td>33979340.0</td>\n",
       "      <td>-118292988.0</td>\n",
       "      <td>2017-01-30</td>\n",
       "      <td>Single Family Residential</td>\n",
       "      <td>26831</td>\n",
       "      <td>0.010042</td>\n",
       "    </tr>\n",
       "    <tr>\n",
       "      <th>2</th>\n",
       "      <td>63323</td>\n",
       "      <td>2</td>\n",
       "      <td>1.0</td>\n",
       "      <td>706</td>\n",
       "      <td>1922</td>\n",
       "      <td>LA</td>\n",
       "      <td>33914931.0</td>\n",
       "      <td>-118348347.0</td>\n",
       "      <td>2017-08-02</td>\n",
       "      <td>Single Family Residential</td>\n",
       "      <td>134631</td>\n",
       "      <td>0.010042</td>\n",
       "    </tr>\n",
       "  </tbody>\n",
       "</table>\n",
       "</div>"
      ],
      "text/plain": [
       "      id  bedrooms  bathrooms  sqft  yearbuilt county    latitude  \\\n",
       "0   5692         3        1.0   706       1922     LA  34117963.0   \n",
       "1   6551         2        1.0   706       1921     LA  33979340.0   \n",
       "2  63323         2        1.0   706       1922     LA  33914931.0   \n",
       "\n",
       "     longitude transaction_date             property_class  taxvalue  \\\n",
       "0 -118200539.0       2017-01-26  Single Family Residential    133437   \n",
       "1 -118292988.0       2017-01-30  Single Family Residential     26831   \n",
       "2 -118348347.0       2017-08-02  Single Family Residential    134631   \n",
       "\n",
       "   percentile_rank  \n",
       "0         0.010042  \n",
       "1         0.010042  \n",
       "2         0.010042  "
      ]
     },
     "execution_count": 6,
     "metadata": {},
     "output_type": "execute_result"
    }
   ],
   "source": [
    "df = w.prep_zillow(w.get_zillow_data())\n",
    "df.head(3)"
   ]
  },
  {
   "cell_type": "code",
   "execution_count": 7,
   "id": "005582a8-4a81-451b-964c-c006a5d28443",
   "metadata": {
    "tags": []
   },
   "outputs": [
    {
     "data": {
      "text/html": [
       "<div>\n",
       "<style scoped>\n",
       "    .dataframe tbody tr th:only-of-type {\n",
       "        vertical-align: middle;\n",
       "    }\n",
       "\n",
       "    .dataframe tbody tr th {\n",
       "        vertical-align: top;\n",
       "    }\n",
       "\n",
       "    .dataframe thead th {\n",
       "        text-align: right;\n",
       "    }\n",
       "</style>\n",
       "<table border=\"1\" class=\"dataframe\">\n",
       "  <thead>\n",
       "    <tr style=\"text-align: right;\">\n",
       "      <th></th>\n",
       "      <th>bedrooms</th>\n",
       "      <th>bathrooms</th>\n",
       "      <th>sqft</th>\n",
       "      <th>yearbuilt</th>\n",
       "      <th>county</th>\n",
       "      <th>latitude</th>\n",
       "      <th>longitude</th>\n",
       "      <th>transaction_date</th>\n",
       "      <th>property_class</th>\n",
       "      <th>taxvalue</th>\n",
       "    </tr>\n",
       "    <tr>\n",
       "      <th>id</th>\n",
       "      <th></th>\n",
       "      <th></th>\n",
       "      <th></th>\n",
       "      <th></th>\n",
       "      <th></th>\n",
       "      <th></th>\n",
       "      <th></th>\n",
       "      <th></th>\n",
       "      <th></th>\n",
       "      <th></th>\n",
       "    </tr>\n",
       "  </thead>\n",
       "  <tbody>\n",
       "    <tr>\n",
       "      <th>5692</th>\n",
       "      <td>3</td>\n",
       "      <td>1.0</td>\n",
       "      <td>706</td>\n",
       "      <td>1922</td>\n",
       "      <td>LA</td>\n",
       "      <td>34117963.0</td>\n",
       "      <td>-118200539.0</td>\n",
       "      <td>2017-01-26</td>\n",
       "      <td>Single Family Residential</td>\n",
       "      <td>133437</td>\n",
       "    </tr>\n",
       "    <tr>\n",
       "      <th>6551</th>\n",
       "      <td>2</td>\n",
       "      <td>1.0</td>\n",
       "      <td>706</td>\n",
       "      <td>1921</td>\n",
       "      <td>LA</td>\n",
       "      <td>33979340.0</td>\n",
       "      <td>-118292988.0</td>\n",
       "      <td>2017-01-30</td>\n",
       "      <td>Single Family Residential</td>\n",
       "      <td>26831</td>\n",
       "    </tr>\n",
       "    <tr>\n",
       "      <th>63323</th>\n",
       "      <td>2</td>\n",
       "      <td>1.0</td>\n",
       "      <td>706</td>\n",
       "      <td>1922</td>\n",
       "      <td>LA</td>\n",
       "      <td>33914931.0</td>\n",
       "      <td>-118348347.0</td>\n",
       "      <td>2017-08-02</td>\n",
       "      <td>Single Family Residential</td>\n",
       "      <td>134631</td>\n",
       "    </tr>\n",
       "  </tbody>\n",
       "</table>\n",
       "</div>"
      ],
      "text/plain": [
       "       bedrooms  bathrooms  sqft  yearbuilt county    latitude    longitude  \\\n",
       "id                                                                            \n",
       "5692          3        1.0   706       1922     LA  34117963.0 -118200539.0   \n",
       "6551          2        1.0   706       1921     LA  33979340.0 -118292988.0   \n",
       "63323         2        1.0   706       1922     LA  33914931.0 -118348347.0   \n",
       "\n",
       "      transaction_date             property_class  taxvalue  \n",
       "id                                                           \n",
       "5692        2017-01-26  Single Family Residential    133437  \n",
       "6551        2017-01-30  Single Family Residential     26831  \n",
       "63323       2017-08-02  Single Family Residential    134631  "
      ]
     },
     "execution_count": 7,
     "metadata": {},
     "output_type": "execute_result"
    }
   ],
   "source": [
    "df = df.set_index('id')\n",
    "df.drop(['percentile_rank'], axis=1, inplace=True)\n",
    "df.head(3)"
   ]
  },
  {
   "cell_type": "code",
   "execution_count": 8,
   "id": "a4da1191-205d-4503-aac9-3d0b87ffe011",
   "metadata": {
    "tags": []
   },
   "outputs": [
    {
     "data": {
      "text/html": [
       "<div>\n",
       "<style scoped>\n",
       "    .dataframe tbody tr th:only-of-type {\n",
       "        vertical-align: middle;\n",
       "    }\n",
       "\n",
       "    .dataframe tbody tr th {\n",
       "        vertical-align: top;\n",
       "    }\n",
       "\n",
       "    .dataframe thead th {\n",
       "        text-align: right;\n",
       "    }\n",
       "</style>\n",
       "<table border=\"1\" class=\"dataframe\">\n",
       "  <thead>\n",
       "    <tr style=\"text-align: right;\">\n",
       "      <th></th>\n",
       "      <th>bedrooms</th>\n",
       "      <th>bathrooms</th>\n",
       "      <th>sqft</th>\n",
       "      <th>yearbuilt</th>\n",
       "      <th>county</th>\n",
       "      <th>latitude</th>\n",
       "      <th>longitude</th>\n",
       "      <th>transaction_date</th>\n",
       "      <th>property_class</th>\n",
       "      <th>taxvalue</th>\n",
       "      <th>rm_X_sqft</th>\n",
       "    </tr>\n",
       "    <tr>\n",
       "      <th>id</th>\n",
       "      <th></th>\n",
       "      <th></th>\n",
       "      <th></th>\n",
       "      <th></th>\n",
       "      <th></th>\n",
       "      <th></th>\n",
       "      <th></th>\n",
       "      <th></th>\n",
       "      <th></th>\n",
       "      <th></th>\n",
       "      <th></th>\n",
       "    </tr>\n",
       "  </thead>\n",
       "  <tbody>\n",
       "    <tr>\n",
       "      <th>5692</th>\n",
       "      <td>3</td>\n",
       "      <td>1.0</td>\n",
       "      <td>706</td>\n",
       "      <td>1922</td>\n",
       "      <td>LA</td>\n",
       "      <td>34117963.0</td>\n",
       "      <td>-118200539.0</td>\n",
       "      <td>2017-01-26</td>\n",
       "      <td>Single Family Residential</td>\n",
       "      <td>133437</td>\n",
       "      <td>0.005666</td>\n",
       "    </tr>\n",
       "    <tr>\n",
       "      <th>6551</th>\n",
       "      <td>2</td>\n",
       "      <td>1.0</td>\n",
       "      <td>706</td>\n",
       "      <td>1921</td>\n",
       "      <td>LA</td>\n",
       "      <td>33979340.0</td>\n",
       "      <td>-118292988.0</td>\n",
       "      <td>2017-01-30</td>\n",
       "      <td>Single Family Residential</td>\n",
       "      <td>26831</td>\n",
       "      <td>0.004249</td>\n",
       "    </tr>\n",
       "    <tr>\n",
       "      <th>63323</th>\n",
       "      <td>2</td>\n",
       "      <td>1.0</td>\n",
       "      <td>706</td>\n",
       "      <td>1922</td>\n",
       "      <td>LA</td>\n",
       "      <td>33914931.0</td>\n",
       "      <td>-118348347.0</td>\n",
       "      <td>2017-08-02</td>\n",
       "      <td>Single Family Residential</td>\n",
       "      <td>134631</td>\n",
       "      <td>0.004249</td>\n",
       "    </tr>\n",
       "  </tbody>\n",
       "</table>\n",
       "</div>"
      ],
      "text/plain": [
       "       bedrooms  bathrooms  sqft  yearbuilt county    latitude    longitude  \\\n",
       "id                                                                            \n",
       "5692          3        1.0   706       1922     LA  34117963.0 -118200539.0   \n",
       "6551          2        1.0   706       1921     LA  33979340.0 -118292988.0   \n",
       "63323         2        1.0   706       1922     LA  33914931.0 -118348347.0   \n",
       "\n",
       "      transaction_date             property_class  taxvalue  rm_X_sqft  \n",
       "id                                                                      \n",
       "5692        2017-01-26  Single Family Residential    133437   0.005666  \n",
       "6551        2017-01-30  Single Family Residential     26831   0.004249  \n",
       "63323       2017-08-02  Single Family Residential    134631   0.004249  "
      ]
     },
     "execution_count": 8,
     "metadata": {},
     "output_type": "execute_result"
    }
   ],
   "source": [
    "df['rm_X_sqft'] = round((df['bathrooms'] + df['bedrooms'])/df['sqft'], 6)\n",
    "df.head(3)"
   ]
  },
  {
   "cell_type": "code",
   "execution_count": 9,
   "id": "69298092-1be4-442a-9bcd-abff2b6be3d5",
   "metadata": {
    "tags": []
   },
   "outputs": [
    {
     "name": "stdout",
     "output_type": "stream",
     "text": [
      "<class 'pandas.core.frame.DataFrame'>\n",
      "Int64Index: 57087 entries, 5692 to 54760\n",
      "Data columns (total 11 columns):\n",
      " #   Column            Non-Null Count  Dtype  \n",
      "---  ------            --------------  -----  \n",
      " 0   bedrooms          57087 non-null  int64  \n",
      " 1   bathrooms         57087 non-null  float64\n",
      " 2   sqft              57087 non-null  int64  \n",
      " 3   yearbuilt         57087 non-null  int64  \n",
      " 4   county            57087 non-null  object \n",
      " 5   latitude          57087 non-null  float64\n",
      " 6   longitude         57087 non-null  float64\n",
      " 7   transaction_date  57087 non-null  object \n",
      " 8   property_class    57087 non-null  object \n",
      " 9   taxvalue          57087 non-null  int64  \n",
      " 10  rm_X_sqft         57087 non-null  float64\n",
      "dtypes: float64(4), int64(4), object(3)\n",
      "memory usage: 5.2+ MB\n"
     ]
    }
   ],
   "source": [
    "df.info()"
   ]
  },
  {
   "cell_type": "code",
   "execution_count": 10,
   "id": "7aef6400-e198-4114-ac78-7890b2545907",
   "metadata": {
    "tags": []
   },
   "outputs": [
    {
     "data": {
      "text/plain": [
       "(57087, 11)"
      ]
     },
     "execution_count": 10,
     "metadata": {},
     "output_type": "execute_result"
    }
   ],
   "source": [
    "df.shape"
   ]
  },
  {
   "cell_type": "code",
   "execution_count": 11,
   "id": "9641505e-8b6b-4012-8f23-5b8261d0f7cc",
   "metadata": {
    "tags": []
   },
   "outputs": [
    {
     "data": {
      "text/plain": [
       "bedrooms            0\n",
       "bathrooms           0\n",
       "sqft                0\n",
       "yearbuilt           0\n",
       "county              0\n",
       "latitude            0\n",
       "longitude           0\n",
       "transaction_date    0\n",
       "property_class      0\n",
       "taxvalue            0\n",
       "rm_X_sqft           0\n",
       "dtype: int64"
      ]
     },
     "execution_count": 11,
     "metadata": {},
     "output_type": "execute_result"
    }
   ],
   "source": [
    "df.isnull().sum()"
   ]
  },
  {
   "cell_type": "code",
   "execution_count": 12,
   "id": "26100d02-be7d-4d45-b312-381bc2d42240",
   "metadata": {
    "tags": []
   },
   "outputs": [
    {
     "data": {
      "text/html": [
       "<div>\n",
       "<style scoped>\n",
       "    .dataframe tbody tr th:only-of-type {\n",
       "        vertical-align: middle;\n",
       "    }\n",
       "\n",
       "    .dataframe tbody tr th {\n",
       "        vertical-align: top;\n",
       "    }\n",
       "\n",
       "    .dataframe thead th {\n",
       "        text-align: right;\n",
       "    }\n",
       "</style>\n",
       "<table border=\"1\" class=\"dataframe\">\n",
       "  <thead>\n",
       "    <tr style=\"text-align: right;\">\n",
       "      <th></th>\n",
       "      <th>count</th>\n",
       "      <th>mean</th>\n",
       "      <th>std</th>\n",
       "      <th>min</th>\n",
       "      <th>25%</th>\n",
       "      <th>50%</th>\n",
       "      <th>75%</th>\n",
       "      <th>max</th>\n",
       "    </tr>\n",
       "  </thead>\n",
       "  <tbody>\n",
       "    <tr>\n",
       "      <th>bedrooms</th>\n",
       "      <td>57087.0</td>\n",
       "      <td>3.342845e+00</td>\n",
       "      <td>0.925792</td>\n",
       "      <td>0.000000e+00</td>\n",
       "      <td>3.000000e+00</td>\n",
       "      <td>3.000000e+00</td>\n",
       "      <td>4.000000e+00</td>\n",
       "      <td>1.100000e+01</td>\n",
       "    </tr>\n",
       "    <tr>\n",
       "      <th>bathrooms</th>\n",
       "      <td>57087.0</td>\n",
       "      <td>2.240773e+00</td>\n",
       "      <td>0.900330</td>\n",
       "      <td>1.000000e+00</td>\n",
       "      <td>2.000000e+00</td>\n",
       "      <td>2.000000e+00</td>\n",
       "      <td>3.000000e+00</td>\n",
       "      <td>9.000000e+00</td>\n",
       "    </tr>\n",
       "    <tr>\n",
       "      <th>sqft</th>\n",
       "      <td>57087.0</td>\n",
       "      <td>1.835896e+03</td>\n",
       "      <td>773.600710</td>\n",
       "      <td>7.060000e+02</td>\n",
       "      <td>1.280000e+03</td>\n",
       "      <td>1.642000e+03</td>\n",
       "      <td>2.204000e+03</td>\n",
       "      <td>5.227000e+03</td>\n",
       "    </tr>\n",
       "    <tr>\n",
       "      <th>yearbuilt</th>\n",
       "      <td>57087.0</td>\n",
       "      <td>1.960279e+03</td>\n",
       "      <td>22.146337</td>\n",
       "      <td>1.808000e+03</td>\n",
       "      <td>1.949000e+03</td>\n",
       "      <td>1.958000e+03</td>\n",
       "      <td>1.974000e+03</td>\n",
       "      <td>2.016000e+03</td>\n",
       "    </tr>\n",
       "    <tr>\n",
       "      <th>latitude</th>\n",
       "      <td>57087.0</td>\n",
       "      <td>3.401557e+07</td>\n",
       "      <td>245428.340160</td>\n",
       "      <td>3.334071e+07</td>\n",
       "      <td>3.384037e+07</td>\n",
       "      <td>3.401483e+07</td>\n",
       "      <td>3.417740e+07</td>\n",
       "      <td>3.480695e+07</td>\n",
       "    </tr>\n",
       "    <tr>\n",
       "      <th>longitude</th>\n",
       "      <td>57087.0</td>\n",
       "      <td>-1.182066e+08</td>\n",
       "      <td>345266.277351</td>\n",
       "      <td>-1.194484e+08</td>\n",
       "      <td>-1.183954e+08</td>\n",
       "      <td>-1.181690e+08</td>\n",
       "      <td>-1.179566e+08</td>\n",
       "      <td>-1.175559e+08</td>\n",
       "    </tr>\n",
       "    <tr>\n",
       "      <th>taxvalue</th>\n",
       "      <td>57087.0</td>\n",
       "      <td>4.273027e+05</td>\n",
       "      <td>443225.600779</td>\n",
       "      <td>7.584000e+03</td>\n",
       "      <td>1.885260e+05</td>\n",
       "      <td>3.271140e+05</td>\n",
       "      <td>5.230000e+05</td>\n",
       "      <td>1.472112e+07</td>\n",
       "    </tr>\n",
       "    <tr>\n",
       "      <th>rm_X_sqft</th>\n",
       "      <td>57087.0</td>\n",
       "      <td>3.233203e-03</td>\n",
       "      <td>0.000733</td>\n",
       "      <td>5.780000e-04</td>\n",
       "      <td>2.699000e-03</td>\n",
       "      <td>3.203000e-03</td>\n",
       "      <td>3.731000e-03</td>\n",
       "      <td>1.059600e-02</td>\n",
       "    </tr>\n",
       "  </tbody>\n",
       "</table>\n",
       "</div>"
      ],
      "text/plain": [
       "             count          mean            std           min           25%  \\\n",
       "bedrooms   57087.0  3.342845e+00       0.925792  0.000000e+00  3.000000e+00   \n",
       "bathrooms  57087.0  2.240773e+00       0.900330  1.000000e+00  2.000000e+00   \n",
       "sqft       57087.0  1.835896e+03     773.600710  7.060000e+02  1.280000e+03   \n",
       "yearbuilt  57087.0  1.960279e+03      22.146337  1.808000e+03  1.949000e+03   \n",
       "latitude   57087.0  3.401557e+07  245428.340160  3.334071e+07  3.384037e+07   \n",
       "longitude  57087.0 -1.182066e+08  345266.277351 -1.194484e+08 -1.183954e+08   \n",
       "taxvalue   57087.0  4.273027e+05  443225.600779  7.584000e+03  1.885260e+05   \n",
       "rm_X_sqft  57087.0  3.233203e-03       0.000733  5.780000e-04  2.699000e-03   \n",
       "\n",
       "                    50%           75%           max  \n",
       "bedrooms   3.000000e+00  4.000000e+00  1.100000e+01  \n",
       "bathrooms  2.000000e+00  3.000000e+00  9.000000e+00  \n",
       "sqft       1.642000e+03  2.204000e+03  5.227000e+03  \n",
       "yearbuilt  1.958000e+03  1.974000e+03  2.016000e+03  \n",
       "latitude   3.401483e+07  3.417740e+07  3.480695e+07  \n",
       "longitude -1.181690e+08 -1.179566e+08 -1.175559e+08  \n",
       "taxvalue   3.271140e+05  5.230000e+05  1.472112e+07  \n",
       "rm_X_sqft  3.203000e-03  3.731000e-03  1.059600e-02  "
      ]
     },
     "execution_count": 12,
     "metadata": {},
     "output_type": "execute_result"
    }
   ],
   "source": [
    "df.describe().T"
   ]
  },
  {
   "cell_type": "code",
   "execution_count": 13,
   "id": "bb502723-0aa4-4f48-9318-97e7aaae239c",
   "metadata": {
    "tags": []
   },
   "outputs": [
    {
     "data": {
      "text/html": [
       "<div>\n",
       "<style scoped>\n",
       "    .dataframe tbody tr th:only-of-type {\n",
       "        vertical-align: middle;\n",
       "    }\n",
       "\n",
       "    .dataframe tbody tr th {\n",
       "        vertical-align: top;\n",
       "    }\n",
       "\n",
       "    .dataframe thead th {\n",
       "        text-align: right;\n",
       "    }\n",
       "</style>\n",
       "<table border=\"1\" class=\"dataframe\">\n",
       "  <thead>\n",
       "    <tr style=\"text-align: right;\">\n",
       "      <th>county</th>\n",
       "      <th>LA</th>\n",
       "      <th>Orange</th>\n",
       "      <th>Ventura</th>\n",
       "    </tr>\n",
       "    <tr>\n",
       "      <th>property_class</th>\n",
       "      <th></th>\n",
       "      <th></th>\n",
       "      <th></th>\n",
       "    </tr>\n",
       "  </thead>\n",
       "  <tbody>\n",
       "    <tr>\n",
       "      <th>Duplex (2 Units, Any Combination)</th>\n",
       "      <td>2542</td>\n",
       "      <td>12</td>\n",
       "      <td>7</td>\n",
       "    </tr>\n",
       "    <tr>\n",
       "      <th>Single Family Residential</th>\n",
       "      <td>36186</td>\n",
       "      <td>13700</td>\n",
       "      <td>4640</td>\n",
       "    </tr>\n",
       "  </tbody>\n",
       "</table>\n",
       "</div>"
      ],
      "text/plain": [
       "county                                LA  Orange  Ventura\n",
       "property_class                                           \n",
       "Duplex (2 Units, Any Combination)   2542      12        7\n",
       "Single Family Residential          36186   13700     4640"
      ]
     },
     "execution_count": 13,
     "metadata": {},
     "output_type": "execute_result"
    }
   ],
   "source": [
    "pd.crosstab(df.property_class, df.county)"
   ]
  },
  {
   "cell_type": "code",
   "execution_count": 14,
   "id": "98a63f4d-2d61-4d46-a5bc-9c84d478d09c",
   "metadata": {
    "tags": []
   },
   "outputs": [
    {
     "data": {
      "text/plain": [
       "LA         0.678403\n",
       "Orange     0.240195\n",
       "Ventura    0.081402\n",
       "Name: county, dtype: float64"
      ]
     },
     "execution_count": 14,
     "metadata": {},
     "output_type": "execute_result"
    }
   ],
   "source": [
    "df.county.value_counts(normalize=True)"
   ]
  },
  {
   "cell_type": "markdown",
   "id": "2b3b7482-dc1e-4998-a4a2-8ff0dc63379b",
   "metadata": {},
   "source": [
    "# Explore"
   ]
  },
  {
   "cell_type": "markdown",
   "id": "dc561ad3-5083-49bb-9030-d53cadabbf28",
   "metadata": {},
   "source": [
    "### Univariate Analysis pre-scaling"
   ]
  },
  {
   "cell_type": "code",
   "execution_count": 15,
   "id": "b4455812-a620-440b-99d0-2a16a0138c41",
   "metadata": {
    "tags": []
   },
   "outputs": [
    {
     "data": {
      "image/png": "[encoded data removed]",
      "text/plain": [
       "<Figure size 1600x800 with 4 Axes>"
      ]
     },
     "metadata": {},
     "output_type": "display_data"
    }
   ],
   "source": [
    "cols = ['bedrooms', 'bathrooms', 'sqft', 'rm_X_sqft']\n",
    "\n",
    "# Determine the number of rows needed for subplots\n",
    "n_rows = len(cols) // 2 + len(cols) % 2\n",
    "fig, axes = plt.subplots(n_rows, 2, figsize=(16, n_rows*4))\n",
    "\n",
    "for i, col in enumerate(cols):\n",
    "    ax = axes.flatten()[i]\n",
    "    sns.histplot(df[col], bins=50, ax=ax)  # Using seaborn for a more refined look\n",
    "    ax.set_title(col.upper(), fontsize=12)  # Set title for each subplot\n",
    "    ax.tick_params(axis='x', rotation=30)   # Rotate x-axis labels\n",
    "    ax.grid(False)  # Hide gridlines\n",
    "\n",
    "# Adjust layout for better spacing\n",
    "plt.tight_layout()\n",
    "plt.show()\n"
   ]
  },
  {
   "cell_type": "markdown",
   "id": "5ae6f672-edd5-4bb3-a863-638c20966c29",
   "metadata": {},
   "source": [
    "## Spliting"
   ]
  },
  {
   "cell_type": "markdown",
   "id": "34a4b72c-892c-4fda-9db1-8036cbeb586b",
   "metadata": {},
   "source": [
    "#### NOTES:\n",
    "- only using NON-NULLs\n",
    "- removed 1% of top and bottom (2% total) values using the feature ranking 'sqft' as to remove possible human error in istances where '0' or an exaggerated number was imputed for the 'sqft' feature.\n",
    "- I created a feature (column) named 'rm_X_sqft' as a result of dividing ('bedrooms' and 'bathrooms') by 'sqft'"
   ]
  },
  {
   "cell_type": "code",
   "execution_count": 16,
   "id": "adbcaed5-7251-4f10-835d-77a8b79cc11e",
   "metadata": {
    "tags": []
   },
   "outputs": [
    {
     "name": "stdout",
     "output_type": "stream",
     "text": [
      "\n",
      "    train -> (34252, 11)\n",
      "    validate -> (11417, 11)\n",
      "    test -> (11418, 11)\n"
     ]
    }
   ],
   "source": [
    "train, validate, test = w.split_data(df)"
   ]
  },
  {
   "cell_type": "code",
   "execution_count": 17,
   "id": "46cf75ce-170b-404a-9f4f-3155d7541c8c",
   "metadata": {
    "tags": []
   },
   "outputs": [],
   "source": [
    "# scale that data!\n",
    "# separate X and y!\n",
    "X_train, y_train = train.drop(columns=['taxvalue','county','transaction_date', 'property_class']), train['taxvalue']\n",
    "X_validate, y_validate = validate.drop(columns=['taxvalue','county','transaction_date', 'property_class']), validate['taxvalue']\n",
    "X_test, y_test = test.drop(columns=['taxvalue','county','transaction_date', 'property_class']), test['taxvalue']"
   ]
  },
  {
   "cell_type": "markdown",
   "id": "3b811d2c-1c34-4418-8d2b-979fb618764d",
   "metadata": {},
   "source": [
    "## Hypotheses:\n",
    "\n",
    "### Q1. Is there a relationship between sqft and taxvalue?\n",
    "\n",
    "- both of my variables are continuous\n",
    "\n",
    "- check for correlation\n",
    "\n",
    "$H_0$: There is no linear correlation between sqft and taxvalue\n",
    "\n",
    "$H_a$: There is a linear correlation between sqft and taxvalue"
   ]
  },
  {
   "cell_type": "code",
   "execution_count": 18,
   "id": "da1b25cb-e5de-476c-95f7-dc689c0082ad",
   "metadata": {
    "tags": []
   },
   "outputs": [],
   "source": [
    "zillow_corr = train.corr(method='spearman')"
   ]
  },
  {
   "cell_type": "code",
   "execution_count": 19,
   "id": "51c225cd-1357-45db-a94d-94a8df00d356",
   "metadata": {
    "tags": []
   },
   "outputs": [
    {
     "data": {
      "image/png": "[encoded data removed]",
      "text/plain": [
       "<Figure size 640x480 with 2 Axes>"
      ]
     },
     "metadata": {},
     "output_type": "display_data"
    }
   ],
   "source": [
    "# pass my correlation matrix to Seaborn's heatmap with customization\n",
    "sns.heatmap(zillow_corr, cmap='Blues', annot=True, \n",
    "            mask=np.triu(zillow_corr))\n",
    "plt.show()"
   ]
  },
  {
   "cell_type": "code",
   "execution_count": 20,
   "id": "e4bfb841-a93c-4319-b691-eed77d072075",
   "metadata": {
    "tags": []
   },
   "outputs": [
    {
     "name": "stdout",
     "output_type": "stream",
     "text": [
      "We reject H₀, there is a monotonic relationship.\n",
      "Spearman’s r: 0.501131\n",
      "P-value: 0.0\n"
     ]
    }
   ],
   "source": [
    "# Variables are not normally distributed\n",
    "# using scipy stats function spearmanr to calculate correlation and p-value \n",
    "r, p = spearmanr(train.sqft, train.taxvalue)\n",
    "w.eval_Spearman(r,p)"
   ]
  },
  {
   "cell_type": "code",
   "execution_count": 21,
   "id": "6a70cac2-3482-429d-ab89-1fc2e6de212c",
   "metadata": {
    "tags": []
   },
   "outputs": [
    {
     "data": {
      "image/png": "[encoded data removed]",
      "text/plain": [
       "<Figure size 604.25x500 with 1 Axes>"
      ]
     },
     "metadata": {},
     "output_type": "display_data"
    }
   ],
   "source": [
    "# Using sns to plot the correlation between taxvalue and sqft, with a hue of county and a best fit line for each county\n",
    "sns.lmplot(data=train, x='sqft', y='taxvalue', markers='o',\n",
    "           line_kws={'color':'yellow'},aspect=1,hue='county')\n",
    "plt.title('Taxvalue in Comparison to Square Feet')\n",
    "plt.xlabel('Square Feet')\n",
    "plt.ylabel('Taxvalue')\n",
    "plt.show()"
   ]
  },
  {
   "cell_type": "markdown",
   "id": "39ce59e1-eeb5-452b-a925-0dc37faab328",
   "metadata": {},
   "source": [
    "### the SpearmanR test shows there is a monotonic relationship between sqft and taxvalue\n",
    "\n",
    "### There seems to be a great correlation between sqft and taxvalue, as sqft increases, taxvalue also increases.  Which makes sense as the larger the constructed house, themore material it takes to be built, therefore more expensive. "
   ]
  },
  {
   "cell_type": "markdown",
   "id": "20d114e6-7502-4ba8-b075-ad4ae8f68d7d",
   "metadata": {
    "tags": []
   },
   "source": [
    "## Hypotheses:\n",
    "\n",
    "### Q2. Is there a relationship between number of bedrooms and taxvalue?\n",
    "\n",
    "- both of my variables are continuous\n",
    "\n",
    "- check for correlation\n",
    "\n",
    "$H_0$: There is no linear correlation between number of bedrooms and taxvalue\n",
    "\n",
    "$H_a$: There is a linear correlation between number of bedrooms and taxvalue"
   ]
  },
  {
   "cell_type": "code",
   "execution_count": 22,
   "id": "e5b5b57f-1f74-4b17-8081-f979b86dcedc",
   "metadata": {
    "tags": []
   },
   "outputs": [
    {
     "name": "stdout",
     "output_type": "stream",
     "text": [
      "We reject H₀, there is a monotonic relationship.\n",
      "Spearman’s r: 0.260175\n",
      "P-value: 0.0\n"
     ]
    }
   ],
   "source": [
    "# using scipy stats function spearmanr to calculate correlation and p-value \n",
    "r, p = spearmanr(train.bedrooms, train.taxvalue)\n",
    "w.eval_Spearman(r,p)"
   ]
  },
  {
   "cell_type": "markdown",
   "id": "a81c6e79-cb95-48f3-8660-b6446e8b2f6b",
   "metadata": {},
   "source": [
    "### the SpearmanR test shows there is a monotonic relationship between number of bedrooms and taxvalue\n",
    "\n",
    "### There seems to be a great correlation between number of bedrooms and taxvalue, as the number of bedrooms increases (up to 5) the value increases, after 5, the taxvalue is less reflected on number of bedrooms. "
   ]
  },
  {
   "cell_type": "markdown",
   "id": "ba9d851e-c5ab-4a07-9331-b93560f910a5",
   "metadata": {},
   "source": [
    "## Hypotheses:\n",
    "\n",
    "### Q3. Is there a relationship between number of bathrooms and taxvalue?\n",
    "\n",
    "- both of my variables are continuous\n",
    "\n",
    "- check for correlation\n",
    "\n",
    "$H_0$: There is no linear correlation between number of bathrooms and taxvalue\n",
    "\n",
    "$H_a$: There is a linear correlation between number of bathrooms and taxvalue"
   ]
  },
  {
   "cell_type": "code",
   "execution_count": 23,
   "id": "42022773-b95d-4a50-8612-aa32ddcf02d6",
   "metadata": {
    "tags": []
   },
   "outputs": [
    {
     "name": "stdout",
     "output_type": "stream",
     "text": [
      "We reject H₀, there is a monotonic relationship.\n",
      "Spearman’s r: 0.453905\n",
      "P-value: 0.0\n"
     ]
    }
   ],
   "source": [
    "# Since my variables are not normally distributed, \n",
    "# use scipy stats function spearmanr to calculate correlation and p-value \n",
    "r, p = spearmanr(train.bathrooms, train.taxvalue)\n",
    "w.eval_Spearman(r,p)"
   ]
  },
  {
   "cell_type": "code",
   "execution_count": 24,
   "id": "28eb9b9f-26c6-4aca-821d-888b93f98b2c",
   "metadata": {
    "tags": []
   },
   "outputs": [
    {
     "data": {
      "image/png": "[encoded data removed]",
      "text/plain": [
       "<Figure size 604.25x500 with 1 Axes>"
      ]
     },
     "metadata": {},
     "output_type": "display_data"
    }
   ],
   "source": [
    "# I can really pop that line color if I want\n",
    "sns.lmplot(data=train, x='bathrooms', y='taxvalue',hue='county',\n",
    "           line_kws={'color':'yellow'})\n",
    "plt.title('Taxvalue in Comparison to Number of Bathrooms')\n",
    "plt.xlabel('Bathrooms')\n",
    "plt.ylabel('Taxvalue')\n",
    "plt.show()"
   ]
  },
  {
   "cell_type": "markdown",
   "id": "e899ef25-95d9-427c-a8bd-3316b32a37d9",
   "metadata": {
    "tags": []
   },
   "source": [
    "sns.boxplot(x='bathrooms', y='taxvalue', data=train)\n",
    "\n",
    "plt.show()"
   ]
  },
  {
   "cell_type": "markdown",
   "id": "7f7e5ac7-b373-4965-9025-062c8e949208",
   "metadata": {},
   "source": [
    "### the SpearmanR test shows there is a monotonic relationship between number of bathrooms and taxvalue\n",
    "\n",
    "### There seems to be a great correlation between number of bathrooms and taxvalue, as the number of bathrooms increases (up to 6.5) the value increases, after 7, the taxvalue is less reflected on number of bathrooms. "
   ]
  },
  {
   "cell_type": "markdown",
   "id": "incorrect-mailman",
   "metadata": {},
   "source": [
    "## You may use this as a template for how to ask and answer each question:"
   ]
  },
  {
   "cell_type": "markdown",
   "id": "iraqi-sellers",
   "metadata": {},
   "source": [
    "## Exploration Summary\n",
    "* SpearmanR test shows a **monotonic relationship between sqft and taxvalue**\n",
    "* SpearmanR test shows a **monotonic relationship between bathrooms and taxvalue**\n",
    "* SpearmanR test shows a **monotonic relationship between bedrooms and taxvalue**"
   ]
  },
  {
   "cell_type": "markdown",
   "id": "minus-tulsa",
   "metadata": {},
   "source": [
    "# Modeling"
   ]
  },
  {
   "cell_type": "markdown",
   "id": "hydraulic-spectrum",
   "metadata": {},
   "source": [
    "### Introduction\n",
    "* Will scale all continious features for modeling\n",
    "* Created a baseline by taking the mean of taxvalue.\n",
    "* I will be using the following models to evaluate:  \n",
    "     - Ordinary Least Squares\n",
    "     - Multiple Regression\n",
    "     - LassoLars\n",
    "     - Polynomial Regression\n",
    "     - Generalized Linear Model"
   ]
  },
  {
   "cell_type": "markdown",
   "id": "de031777-6f56-47ce-b32a-4dba68ef5fb7",
   "metadata": {},
   "source": [
    "### Scaling"
   ]
  },
  {
   "cell_type": "code",
   "execution_count": 25,
   "id": "915c4f26-896c-4d38-b2d0-4a2331ab6580",
   "metadata": {
    "tags": []
   },
   "outputs": [],
   "source": [
    "# make a scaler:\n",
    "scaler = MinMaxScaler()\n",
    "# fit and use a scaler:\n",
    "X_train_scaled = scaler.fit_transform(X_train)\n",
    "# use only on validate:\n",
    "X_validate_scaled = scaler.transform(X_validate)\n",
    "# use only on test:\n",
    "X_test_scaled = scaler.transform(X_test)"
   ]
  },
  {
   "cell_type": "code",
   "execution_count": 26,
   "id": "1e378b94-bed3-4d3c-bc71-068b2689fa99",
   "metadata": {
    "tags": []
   },
   "outputs": [
    {
     "data": {
      "text/plain": [
       "426244.76"
      ]
     },
     "execution_count": 26,
     "metadata": {},
     "output_type": "execute_result"
    }
   ],
   "source": [
    "# setting values for train group\n",
    "X = X_train\n",
    "y = y_train\n",
    "# BASELINE\n",
    "baseline = y.mean()\n",
    "round(baseline,2)"
   ]
  },
  {
   "cell_type": "code",
   "execution_count": 27,
   "id": "effdb0b1-a2ee-4690-8434-fb22e57f4503",
   "metadata": {
    "tags": []
   },
   "outputs": [],
   "source": [
    "# making a baseline guess dataframe\n",
    "# that is the same shape as our y variable:\n",
    "# np.repeat does what it sounds like\n",
    "baseline_array = np.repeat(baseline, y.shape[0])\n",
    "baseline_rmse, baseline_r2 = w.evaluate_reg(y, baseline_array)"
   ]
  },
  {
   "cell_type": "code",
   "execution_count": 30,
   "id": "79d495dd-0342-4108-beb8-790ec25c35b1",
   "metadata": {
    "tags": []
   },
   "outputs": [
    {
     "data": {
      "text/html": [
       "<div>\n",
       "<style scoped>\n",
       "    .dataframe tbody tr th:only-of-type {\n",
       "        vertical-align: middle;\n",
       "    }\n",
       "\n",
       "    .dataframe tbody tr th {\n",
       "        vertical-align: top;\n",
       "    }\n",
       "\n",
       "    .dataframe thead th {\n",
       "        text-align: right;\n",
       "    }\n",
       "</style>\n",
       "<table border=\"1\" class=\"dataframe\">\n",
       "  <thead>\n",
       "    <tr style=\"text-align: right;\">\n",
       "      <th></th>\n",
       "      <th>model</th>\n",
       "      <th>rmse</th>\n",
       "      <th>r2</th>\n",
       "    </tr>\n",
       "  </thead>\n",
       "  <tbody>\n",
       "    <tr>\n",
       "      <th>0</th>\n",
       "      <td>baseline</td>\n",
       "      <td>442396.631221</td>\n",
       "      <td>0.0</td>\n",
       "    </tr>\n",
       "  </tbody>\n",
       "</table>\n",
       "</div>"
      ],
      "text/plain": [
       "      model           rmse   r2\n",
       "0  baseline  442396.631221  0.0"
      ]
     },
     "execution_count": 30,
     "metadata": {},
     "output_type": "execute_result"
    }
   ],
   "source": [
    "eval_df = pd.DataFrame([{\n",
    "    'model': 'baseline',\n",
    "    'rmse': baseline_rmse,\n",
    "    'r2': baseline_r2\n",
    "}])\n",
    "eval_df"
   ]
  },
  {
   "cell_type": "code",
   "execution_count": null,
   "id": "50830f68-eb38-46dd-91a0-29a549d15020",
   "metadata": {},
   "outputs": [],
   "source": []
  },
  {
   "cell_type": "code",
   "execution_count": null,
   "id": "72526618-e0bf-46e8-9dde-d1aa9d24ca2c",
   "metadata": {},
   "outputs": [],
   "source": []
  },
  {
   "cell_type": "markdown",
   "id": "8dc012c9-1e3e-4507-b812-bc4bced89c28",
   "metadata": {},
   "source": [
    "## SCALING"
   ]
  },
  {
   "cell_type": "markdown",
   "id": "emotional-purchase",
   "metadata": {},
   "source": [
    "### Best 3 Models\n",
    "* Show the three best model results obtained using your selected features to predict the target variable\n",
    "* Typically students will show the top models they are able to generate for three different model types"
   ]
  },
  {
   "cell_type": "markdown",
   "id": "gentle-capability",
   "metadata": {},
   "source": [
    "## You may use this as a template for how to introduce your models:"
   ]
  },
  {
   "cell_type": "markdown",
   "id": "intensive-vietnamese",
   "metadata": {},
   "source": [
    "### Model Type"
   ]
  },
  {
   "cell_type": "code",
   "execution_count": 28,
   "id": "colonial-newport",
   "metadata": {},
   "outputs": [],
   "source": [
    "# Code that runs the best model in that model type goes here \n",
    "# (This may be imported from a module)"
   ]
  },
  {
   "cell_type": "markdown",
   "id": "distinguished-abuse",
   "metadata": {},
   "source": [
    "Printout of model code should read: <br>\n",
    "\"Model Type\" <br>\n",
    "\"evaluation metric\" on train: \"evaluation result\" <br>\n",
    "\"evaluation metric\" on validate: \"evaluation result\""
   ]
  },
  {
   "cell_type": "markdown",
   "id": "regulated-fellowship",
   "metadata": {},
   "source": [
    "### Test Model\n",
    "* Choose the best model out of the three as you best model and explain why you have chosen it\n",
    "* Explain that you will now run your final model on test data to gauge how it will perform on unseen data"
   ]
  },
  {
   "cell_type": "code",
   "execution_count": 29,
   "id": "optical-quilt",
   "metadata": {},
   "outputs": [],
   "source": [
    "# Code that runs the best overall model on test data (this may be imported from a module)"
   ]
  },
  {
   "cell_type": "markdown",
   "id": "motivated-recycling",
   "metadata": {},
   "source": [
    "Printout of model code should read: <br>\n",
    "\"Model Type\" <br>\n",
    "\"evaluation metric\" on Test: \"evaluation result\" <br>"
   ]
  },
  {
   "cell_type": "markdown",
   "id": "bright-evans",
   "metadata": {},
   "source": [
    "### Modeling Wrap \n",
    "* Give a final interpretation of how the models test score compares to the baseline and weather you would recommend this model for production"
   ]
  },
  {
   "cell_type": "markdown",
   "id": "tutorial-twelve",
   "metadata": {},
   "source": [
    "## Conclusion\n",
    "\n",
    "### Summery\n",
    "* Summarize your findings and answer the questions you brought up in explore \n",
    "* Summarize how drivers discovered lead or did not lead to a successful model \n",
    "\n",
    "### Recommendations\n",
    "* Recommendations are actions the stakeholder should take based on your insights\n",
    "\n",
    "### Next Steps\n",
    "* Next Steps are what you, as a Data Scientist, would do if provided more time to work on the project"
   ]
  },
  {
   "cell_type": "markdown",
   "id": "tender-source",
   "metadata": {},
   "source": [
    "**Where there is code in your report there should also be code comments telling the reader what each code block is doing. This is true for any and all code blocks even if you are using a function to import code from a module.**\n",
    "<br>\n",
    "<br>\n",
    "**Your Notebook should contain adequate markdown that documents your thought process, decision making, and navigation through the pipeline. As a Data Scientist, your job does not end with making data discoveries. It includes effectively communicating those discoveries as well. This means documentation is a critical part of your job.**"
   ]
  },
  {
   "cell_type": "markdown",
   "id": "frank-castle",
   "metadata": {},
   "source": [
    "# README\n",
    "\n",
    "Your README should contain all of the following elements:\n",
    "\n",
    "* **Title** Gives the name of your project\n",
    "* **Project Description** Describes what your project is and why it is important \n",
    "* **Project Goal** Clearly states what your project sets out to do and how the information gained can be applied to the real world\n",
    "* **Initial Hypotheses** Initial questions used to focus your project \n",
    "* **Project Plan** Guides the reader through the different stages of the pipeline as they relate to your project\n",
    "* **Data Dictionary** Gives a definition for each of the features used in your report and the units they are measured in, if applicable\n",
    "* **Steps to Reproduce** Gives instructions for reproducing your work. i.e. Running your notebook on someone else's computer."
   ]
  }
 ],
 "metadata": {
  "kernelspec": {
   "display_name": "Python 3 (ipykernel)",
   "language": "python",
   "name": "python3"
  },
  "language_info": {
   "codemirror_mode": {
    "name": "ipython",
    "version": 3
   },
   "file_extension": ".py",
   "mimetype": "text/x-python",
   "name": "python",
   "nbconvert_exporter": "python",
   "pygments_lexer": "ipython3",
   "version": "3.11.4"
  }
 },
 "nbformat": 4,
 "nbformat_minor": 5
}
